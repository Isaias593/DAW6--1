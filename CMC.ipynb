{
  "nbformat": 4,
  "nbformat_minor": 0,
  "metadata": {
    "colab": {
      "provenance": [],
      "toc_visible": true,
      "authorship_tag": "ABX9TyP2mqdqNEIWa0Ws7yehBAe2",
      "include_colab_link": true
    },
    "kernelspec": {
      "name": "python3",
      "display_name": "Python 3"
    },
    "language_info": {
      "name": "python"
    }
  },
  "cells": [
    {
      "cell_type": "markdown",
      "metadata": {
        "id": "view-in-github",
        "colab_type": "text"
      },
      "source": [
        "<a href=\"https://colab.research.google.com/github/Isaias593/proyecto_prueba/blob/main/CMC.ipynb\" target=\"_parent\"><img src=\"https://colab.research.google.com/assets/colab-badge.svg\" alt=\"Open In Colab\"/></a>"
      ]
    },
    {
      "cell_type": "code",
      "source": [
        "#@title Calculo Indice masa corporal { display-mode: \"both\" }\n",
        "Estatura =  1.65#@param {type:\"number\"}\n",
        "Peso =  72#@param {type:\"number\"}\n",
        "\n",
        "print((Peso) /(Estatura*Estatura))\n"
      ],
      "metadata": {
        "colab": {
          "base_uri": "https://localhost:8080/"
        },
        "id": "hxIpQbfb7RM9",
        "outputId": "11fb5bad-f548-4f28-aa36-207bb17ec03a"
      },
      "execution_count": 1,
      "outputs": [
        {
          "output_type": "stream",
          "name": "stdout",
          "text": [
            "26.44628099173554\n"
          ]
        }
      ]
    },
    {
      "cell_type": "code",
      "source": [],
      "metadata": {
        "id": "5kBdYziPOeGK"
      },
      "execution_count": 1,
      "outputs": []
    }
  ]
}